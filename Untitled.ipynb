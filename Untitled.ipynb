{
 "cells": [
  {
   "cell_type": "code",
   "execution_count": 1,
   "id": "e8d4083f",
   "metadata": {},
   "outputs": [
    {
     "data": {
      "text/plain": [
       "['.ipynb_checkpoints',\n",
       " 'exported_dataframe.csv',\n",
       " 'new_products.csv',\n",
       " 'Sales_Data.csv',\n",
       " 'superstore1.xls',\n",
       " 'superstore2.xls',\n",
       " 'superstore3.xls',\n",
       " 'superstore4.xls',\n",
       " 'superstore5.xls',\n",
       " 'superstore6.xls',\n",
       " 'superstore7.xls',\n",
       " 'superstore8.xls',\n",
       " 'Untitled.ipynb']"
      ]
     },
     "execution_count": 1,
     "metadata": {},
     "output_type": "execute_result"
    }
   ],
   "source": [
    "# I am going to import multiple excel files automatically using for loop,\n",
    "# But before doing this, I need to get the current directory and files in it\n",
    "import os\n",
    "current_folder = os.getcwd()\n",
    "files = os.listdir(current_folder)\n",
    "files"
   ]
  },
  {
   "cell_type": "code",
   "execution_count": 2,
   "id": "7bb1c4bb",
   "metadata": {},
   "outputs": [
    {
     "name": "stdout",
     "output_type": "stream",
     "text": [
      "superstore1.xls\n",
      "superstore2.xls\n",
      "superstore3.xls\n",
      "superstore4.xls\n",
      "superstore5.xls\n",
      "superstore6.xls\n",
      "superstore7.xls\n",
      "superstore8.xls\n"
     ]
    }
   ],
   "source": [
    "# those are files that's gonna be imported to DataFrame\n",
    "for file in files:\n",
    "    if file.endswith('.xls'):\n",
    "        print(file)"
   ]
  },
  {
   "cell_type": "code",
   "execution_count": 3,
   "id": "52ece734",
   "metadata": {},
   "outputs": [
    {
     "name": "stdout",
     "output_type": "stream",
     "text": [
      "C:\\Users\\danis\\Desktop\\file\\superstore1.xls\n",
      "C:\\Users\\danis\\Desktop\\file\\superstore2.xls\n",
      "C:\\Users\\danis\\Desktop\\file\\superstore3.xls\n",
      "C:\\Users\\danis\\Desktop\\file\\superstore4.xls\n",
      "C:\\Users\\danis\\Desktop\\file\\superstore5.xls\n",
      "C:\\Users\\danis\\Desktop\\file\\superstore6.xls\n",
      "C:\\Users\\danis\\Desktop\\file\\superstore7.xls\n",
      "C:\\Users\\danis\\Desktop\\file\\superstore8.xls\n"
     ]
    }
   ],
   "source": [
    "# those are files that's gonna be imported to DataFrame\n",
    "for file in files:\n",
    "    if file.endswith('.xls'):\n",
    "        print(os.path.join(current_folder,file))"
   ]
  },
  {
   "cell_type": "code",
   "execution_count": null,
   "id": "f197b32d",
   "metadata": {},
   "outputs": [],
   "source": [
    "# I concatenated excel files and looped through each excel file that exists in this C:\\Users\\danis\\Desktop\\Extract\n",
    "import pandas as pd\n",
    "for file in files:\n",
    "    if file.endswith('.xls'):\n",
    "        df = pd.read_excel(os.path.join(current_folder,file))\n",
    "        sales = sales.append(df,ignore_index=True)\n",
    "        "
   ]
  },
  {
   "cell_type": "code",
   "execution_count": 8,
   "id": "133e80df",
   "metadata": {},
   "outputs": [
    {
     "ename": "NameError",
     "evalue": "name 'sales' is not defined",
     "output_type": "error",
     "traceback": [
      "\u001b[1;31m---------------------------------------------------------------------------\u001b[0m",
      "\u001b[1;31mNameError\u001b[0m                                 Traceback (most recent call last)",
      "\u001b[1;32m~\\AppData\\Local\\Temp/ipykernel_14568/2164302959.py\u001b[0m in \u001b[0;36m<module>\u001b[1;34m\u001b[0m\n\u001b[1;32m----> 1\u001b[1;33m \u001b[0msales\u001b[0m\u001b[1;33m\u001b[0m\u001b[1;33m\u001b[0m\u001b[0m\n\u001b[0m",
      "\u001b[1;31mNameError\u001b[0m: name 'sales' is not defined"
     ]
    }
   ],
   "source": [
    "sales"
   ]
  },
  {
   "cell_type": "code",
   "execution_count": null,
   "id": "8ec30cc7",
   "metadata": {},
   "outputs": [],
   "source": []
  }
 ],
 "metadata": {
  "kernelspec": {
   "display_name": "Python 3 (ipykernel)",
   "language": "python",
   "name": "python3"
  },
  "language_info": {
   "codemirror_mode": {
    "name": "ipython",
    "version": 3
   },
   "file_extension": ".py",
   "mimetype": "text/x-python",
   "name": "python",
   "nbconvert_exporter": "python",
   "pygments_lexer": "ipython3",
   "version": "3.10.1"
  }
 },
 "nbformat": 4,
 "nbformat_minor": 5
}
